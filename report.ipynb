{
 "cells": [
  {
   "cell_type": "code",
   "execution_count": 1,
   "metadata": {},
   "outputs": [],
   "source": [
    "from UnityEnvWrapper import TennisEnv\n",
    "from buffer import ReplayBuffer\n",
    "from maddpg import MADDPG\n",
    "import torch\n",
    "import numpy as np\n",
    "import os\n",
    "from collections import deque\n",
    "from ddpg import DDPGAgent\n",
    "import torch\n",
    "import torch.nn.functional as F\n",
    "\n",
    "device = 'cpu'"
   ]
  },
  {
   "cell_type": "markdown",
   "metadata": {},
   "source": [
    "# Replay Saved Model"
   ]
  },
  {
   "cell_type": "code",
   "execution_count": 2,
   "metadata": {},
   "outputs": [],
   "source": [
    "# Load saved model\n",
    "agent0 = DDPGAgent(24, 2, 48)\n",
    "agent1 = DDPGAgent(24, 2, 48)\n",
    "agent_file = torch.load('model_dir/episode-2372-17.pt', map_location='cpu')\n",
    "agent0.actor.load_state_dict(agent_file[0]['actor_params'])\n",
    "agent1.actor.load_state_dict(agent_file[1]['actor_params'])"
   ]
  },
  {
   "cell_type": "code",
   "execution_count": 3,
   "metadata": {},
   "outputs": [
    {
     "name": "stderr",
     "output_type": "stream",
     "text": [
      "INFO:unityagents:\n",
      "'Academy' started successfully!\n",
      "Unity Academy name: Academy\n",
      "        Number of Brains: 1\n",
      "        Number of External Brains : 1\n",
      "        Lesson number : 0\n",
      "        Reset Parameters :\n",
      "\t\t\n",
      "Unity brain name: TennisBrain\n",
      "        Number of Visual Observations (per agent): 0\n",
      "        Vector Observation space type: continuous\n",
      "        Vector Observation space size (per agent): 8\n",
      "        Number of stacked Vector Observation: 3\n",
      "        Vector Action space type: continuous\n",
      "        Vector Action space size (per agent): 2\n",
      "        Vector Action descriptions: , \n"
     ]
    },
    {
     "name": "stdout",
     "output_type": "stream",
     "text": [
      "Number of agents: 2\n",
      "Size of each action: 2\n",
      "There are 2 agents. Each observes a state with length: 24\n",
      "The state for the first agent looks like: [ 0.          0.          0.          0.          0.          0.\n",
      "  0.          0.          0.          0.          0.          0.\n",
      "  0.          0.          0.          0.         -6.65278625 -1.5\n",
      " -0.          0.          6.83172083  6.         -0.          0.        ]\n",
      "The state for the second agent looks like: [ 0.          0.          0.          0.          0.          0.\n",
      "  0.          0.          0.          0.          0.          0.\n",
      "  0.          0.          0.          0.         -6.4669857  -1.5\n",
      "  0.          0.         -6.83172083  6.          0.          0.        ]\n",
      "The full state is: [ 0.          0.          0.          0.          0.          0.\n",
      "  0.          0.          0.          0.          0.          0.\n",
      "  0.          0.          0.          0.         -6.65278625 -1.5\n",
      " -0.          0.          6.83172083  6.         -0.          0.\n",
      "  0.          0.          0.          0.          0.          0.\n",
      "  0.          0.          0.          0.          0.          0.\n",
      "  0.          0.          0.          0.         -6.4669857  -1.5\n",
      "  0.          0.         -6.83172083  6.          0.          0.        ]\n",
      "Episode:0, Rwd:1.700 vs. 1.690, Avg_Max:1.700000025331974\n",
      "Episode:1, Rwd:0.590 vs. 0.700, Avg_Max:1.2000000178813934\n",
      "Episode:2, Rwd:0.500 vs. 0.490, Avg_Max:0.9666666810711225\n",
      "Episode:3, Rwd:0.800 vs. 0.790, Avg_Max:0.9250000137835741\n",
      "Episode:4, Rwd:0.790 vs. 0.900, Avg_Max:0.9200000137090683\n",
      "Episode:5, Rwd:0.200 vs. 0.090, Avg_Max:0.800000011920929\n",
      "Episode:6, Rwd:0.090 vs. 0.200, Avg_Max:0.7142857249294009\n",
      "Episode:7, Rwd:0.100 vs. -0.010, Avg_Max:0.6375000094994903\n",
      "Episode:8, Rwd:0.100 vs. 0.190, Avg_Max:0.5877777865777413\n",
      "Episode:9, Rwd:0.590 vs. 0.700, Avg_Max:0.5990000089630485\n",
      "Episode:10, Rwd:1.200 vs. 1.190, Avg_Max:0.6536363734101708\n",
      "Episode:11, Rwd:0.800 vs. 0.790, Avg_Max:0.6658333432860672\n",
      "Episode:12, Rwd:0.800 vs. 0.790, Avg_Max:0.6761538562579796\n",
      "Episode:13, Rwd:1.200 vs. 1.190, Avg_Max:0.7135714392310807\n",
      "Episode:14, Rwd:-0.010 vs. 0.100, Avg_Max:0.6726666767150163\n",
      "Episode:15, Rwd:0.600 vs. 0.590, Avg_Max:0.6681250099791214\n",
      "Episode:16, Rwd:0.300 vs. 0.190, Avg_Max:0.64647059789037\n",
      "Episode:17, Rwd:0.100 vs. -0.010, Avg_Max:0.6161111203125782\n",
      "Episode:18, Rwd:1.200 vs. 1.090, Avg_Max:0.6468421149214632\n",
      "Episode:19, Rwd:0.100 vs. -0.010, Avg_Max:0.6195000092498958\n",
      "Episode:20, Rwd:1.090 vs. 1.200, Avg_Max:0.6471428668037766\n",
      "Episode:21, Rwd:0.090 vs. 0.200, Avg_Max:0.6268181911754337\n",
      "Episode:22, Rwd:0.290 vs. 0.400, Avg_Max:0.616956530948696\n",
      "Episode:23, Rwd:1.490 vs. 1.600, Avg_Max:0.657916676485911\n",
      "Episode:24, Rwd:2.600 vs. 2.490, Avg_Max:0.7356000109761953\n",
      "Episode:25, Rwd:0.390 vs. 0.500, Avg_Max:0.7265384723790563\n",
      "Episode:26, Rwd:1.400 vs. 1.390, Avg_Max:0.7514814926932255\n",
      "Episode:27, Rwd:0.890 vs. 1.000, Avg_Max:0.7603571542006519\n",
      "Episode:28, Rwd:1.190 vs. 1.300, Avg_Max:0.7789655288617159\n",
      "Episode:29, Rwd:0.890 vs. 1.000, Avg_Max:0.7863333450630308\n",
      "Episode:30, Rwd:0.090 vs. 0.100, Avg_Max:0.7641935597864851\n",
      "Episode:31, Rwd:0.500 vs. 0.490, Avg_Max:0.7559375112759881\n",
      "Episode:32, Rwd:0.600 vs. 0.590, Avg_Max:0.7512121324173429\n",
      "Episode:33, Rwd:0.100 vs. -0.010, Avg_Max:0.7320588344488951\n",
      "Episode:34, Rwd:0.300 vs. 0.190, Avg_Max:0.719714296449508\n",
      "Episode:35, Rwd:2.500 vs. 2.600, Avg_Max:0.771944455957661\n",
      "Episode:36, Rwd:0.790 vs. 0.800, Avg_Max:0.7727027142269386\n",
      "Episode:37, Rwd:2.500 vs. 2.600, Avg_Max:0.8207894859247302\n",
      "Episode:38, Rwd:1.990 vs. 2.000, Avg_Max:0.8510256537164633\n",
      "Episode:39, Rwd:0.300 vs. 0.190, Avg_Max:0.8372500124853104\n",
      "Episode:40, Rwd:0.590 vs. 0.700, Avg_Max:0.833902451459591\n",
      "Episode:41, Rwd:2.600 vs. 2.600, Avg_Max:0.8759523940139583\n",
      "Episode:42, Rwd:0.100 vs. -0.010, Avg_Max:0.8579069895366597\n",
      "Episode:43, Rwd:0.200 vs. 0.190, Avg_Max:0.8429545580240135\n",
      "Episode:44, Rwd:0.590 vs. 0.700, Avg_Max:0.8397777902997202\n",
      "Episode:45, Rwd:2.600 vs. 2.600, Avg_Max:0.8780434913528354\n",
      "Episode:46, Rwd:0.600 vs. 0.590, Avg_Max:0.8721276725781091\n",
      "Episode:47, Rwd:0.200 vs. 0.190, Avg_Max:0.85812501279482\n",
      "Episode:48, Rwd:0.690 vs. 0.800, Avg_Max:0.8569387882871895\n",
      "Episode:49, Rwd:0.100 vs. 0.090, Avg_Max:0.841800012551248\n",
      "Episode:50, Rwd:0.100 vs. -0.010, Avg_Max:0.8272549142951474\n",
      "Episode:51, Rwd:1.200 vs. 1.090, Avg_Max:0.8344230893641137\n",
      "Episode:52, Rwd:2.090 vs. 2.200, Avg_Max:0.860188692070122\n",
      "Episode:53, Rwd:0.100 vs. 0.090, Avg_Max:0.8461111237260478\n",
      "Episode:54, Rwd:0.200 vs. 0.190, Avg_Max:0.8343636488033966\n",
      "Episode:55, Rwd:0.690 vs. 0.800, Avg_Max:0.8337500124304954\n",
      "Episode:56, Rwd:0.090 vs. 0.200, Avg_Max:0.8226315912120697\n",
      "Episode:57, Rwd:0.090 vs. 0.200, Avg_Max:0.8118965638287622\n",
      "Episode:58, Rwd:1.290 vs. 1.400, Avg_Max:0.8218644190327091\n",
      "Episode:59, Rwd:2.100 vs. 2.090, Avg_Max:0.8431666792370379\n",
      "Episode:60, Rwd:0.290 vs. 0.400, Avg_Max:0.8359016518062744\n",
      "Episode:61, Rwd:1.390 vs. 1.500, Avg_Max:0.8466129158473303\n",
      "Episode:62, Rwd:0.490 vs. 0.600, Avg_Max:0.8426984252615107\n",
      "Episode:63, Rwd:2.390 vs. 2.500, Avg_Max:0.8685937629488762\n",
      "Episode:64, Rwd:1.090 vs. 1.200, Avg_Max:0.8736923207170688\n",
      "Episode:65, Rwd:2.000 vs. 1.990, Avg_Max:0.8907575890365423\n",
      "Episode:66, Rwd:1.390 vs. 1.400, Avg_Max:0.8983582223473645\n",
      "Episode:67, Rwd:1.090 vs. 1.200, Avg_Max:0.9027941311052179\n",
      "Episode:68, Rwd:0.100 vs. -0.010, Avg_Max:0.8911594335745642\n",
      "Episode:69, Rwd:0.100 vs. 0.090, Avg_Max:0.8798571559733578\n",
      "Episode:70, Rwd:1.090 vs. 1.100, Avg_Max:0.8829577596412158\n",
      "Episode:71, Rwd:0.100 vs. -0.010, Avg_Max:0.8720833463335617\n",
      "Episode:72, Rwd:0.390 vs. 0.500, Avg_Max:0.8669863142940688\n",
      "Episode:73, Rwd:0.100 vs. 0.090, Avg_Max:0.8566216343913127\n",
      "Episode:74, Rwd:0.490 vs. 0.600, Avg_Max:0.8532000127186378\n",
      "Episode:75, Rwd:0.200 vs. 0.090, Avg_Max:0.8446052757483956\n",
      "Episode:76, Rwd:0.100 vs. -0.010, Avg_Max:0.8349350773814049\n",
      "Episode:77, Rwd:0.600 vs. 0.590, Avg_Max:0.8319230893244728\n",
      "Episode:78, Rwd:0.600 vs. 0.590, Avg_Max:0.8289873541297414\n",
      "Episode:79, Rwd:0.700 vs. 0.690, Avg_Max:0.8273750123335049\n",
      "Episode:80, Rwd:1.490 vs. 1.500, Avg_Max:0.8356790248028658\n",
      "Episode:81, Rwd:0.200 vs. 0.090, Avg_Max:0.8279268416099068\n",
      "Episode:82, Rwd:0.100 vs. -0.010, Avg_Max:0.8191566387168974\n",
      "Episode:83, Rwd:-0.010 vs. 0.100, Avg_Max:0.8105952501784832\n",
      "Episode:84, Rwd:0.100 vs. 0.090, Avg_Max:0.8022353060762671\n",
      "Episode:85, Rwd:0.700 vs. 0.690, Avg_Max:0.8010465235687619\n",
      "Episode:86, Rwd:0.100 vs. -0.010, Avg_Max:0.7929885175678579\n",
      "Episode:87, Rwd:0.690 vs. 0.800, Avg_Max:0.7930681936400519\n",
      "Episode:88, Rwd:0.390 vs. 0.500, Avg_Max:0.7897752926716309\n",
      "Episode:89, Rwd:0.590 vs. 0.700, Avg_Max:0.7887777895356218\n",
      "Episode:90, Rwd:1.390 vs. 1.500, Avg_Max:0.7965934184676671\n",
      "Episode:91, Rwd:0.100 vs. -0.010, Avg_Max:0.7890217508918241\n",
      "Episode:92, Rwd:0.500 vs. 0.490, Avg_Max:0.7859139902096602\n",
      "Episode:93, Rwd:0.100 vs. -0.010, Avg_Max:0.7786170328828566\n",
      "Episode:94, Rwd:0.100 vs. -0.010, Avg_Max:0.7714736957103014\n",
      "Episode:95, Rwd:0.600 vs. 0.590, Avg_Max:0.769687511473118\n",
      "Episode:96, Rwd:1.090 vs. 1.100, Avg_Max:0.7730927950289753\n",
      "Episode:97, Rwd:0.200 vs. 0.090, Avg_Max:0.7672449093958249\n",
      "Episode:98, Rwd:0.890 vs. 0.900, Avg_Max:0.7685858700424433\n",
      "Episode:99, Rwd:1.300 vs. 1.190, Avg_Max:0.773900011535734\n"
     ]
    }
   ],
   "source": [
    "env = TennisEnv()\n",
    "max_t=1000\n",
    "rwds = []\n",
    "for ep in range(100):\n",
    "    reward_this_episode = np.zeros((1, 2))\n",
    "    obs, obs_full, env_info = env.reset()\n",
    "    for i in range(max_t):\n",
    "        obst=torch.tensor(obs, dtype=torch.float)\n",
    "        action0 = agent0.act(obst[0,:].view(1,-1), 0).squeeze()\n",
    "        action1 = agent1.act(obst[1,:].view(1,-1), 0).squeeze()\n",
    "        actions = torch.stack([action0, action1]).detach().numpy()\n",
    "        next_obs, next_obs_full, rewards, dones, info = env.step(actions)\n",
    "        reward_this_episode += rewards\n",
    "        obs = np.copy(next_obs)\n",
    "        obs_full = np.copy(next_obs_full)\n",
    "        if np.any(dones):\n",
    "            break\n",
    "    rwds.append(max(reward_this_episode[0, 0], reward_this_episode[0, 1]))\n",
    "    print('\\rEpisode:{}, Rwd:{:.3f} vs. {:.3f}, Avg_Max:{}'.format(ep, reward_this_episode[0, 0], reward_this_episode[0, 1],\n",
    "                                                      np.mean(rwds) \n",
    "                                                      ))\n",
    "\n",
    "env.close()"
   ]
  },
  {
   "cell_type": "markdown",
   "metadata": {},
   "source": [
    "# Show Training History"
   ]
  },
  {
   "cell_type": "code",
   "execution_count": 5,
   "metadata": {},
   "outputs": [],
   "source": [
    "data = np.load('scores-2372-17.npz')"
   ]
  },
  {
   "cell_type": "code",
   "execution_count": 10,
   "metadata": {},
   "outputs": [],
   "source": [
    "s=data['avg_max_scores']"
   ]
  },
  {
   "cell_type": "code",
   "execution_count": 9,
   "metadata": {},
   "outputs": [],
   "source": [
    "import matplotlib.pyplot as plt\n",
    "%matplotlib inline"
   ]
  },
  {
   "cell_type": "code",
   "execution_count": 12,
   "metadata": {},
   "outputs": [
    {
     "data": {
      "image/png": "[encoded data removed]",
      "text/plain": [
       "<Figure size 432x288 with 1 Axes>"
      ]
     },
     "metadata": {},
     "output_type": "display_data"
    }
   ],
   "source": [
    "plt.plot(s)\n",
    "plt.xlabel('Episodes')\n",
    "plt.ylabel('Avg_Max_Score_100Episodes')\n",
    "plt.grid()"
   ]
  },
  {
   "cell_type": "code",
   "execution_count": 14,
   "metadata": {},
   "outputs": [
    {
     "data": {
      "text/plain": [
       "(2373,)"
      ]
     },
     "execution_count": 14,
     "metadata": {},
     "output_type": "execute_result"
    }
   ],
   "source": [
    "s.shape"
   ]
  },
  {
   "cell_type": "code",
   "execution_count": 15,
   "metadata": {},
   "outputs": [
    {
     "data": {
      "text/plain": [
       "1.7168000255897642"
      ]
     },
     "execution_count": 15,
     "metadata": {},
     "output_type": "execute_result"
    }
   ],
   "source": [
    "s[-1]"
   ]
  },
  {
   "cell_type": "code",
   "execution_count": null,
   "metadata": {},
   "outputs": [],
   "source": []
  }
 ],
 "metadata": {
  "kernelspec": {
   "display_name": "Python 3",
   "language": "python",
   "name": "python3"
  },
  "language_info": {
   "codemirror_mode": {
    "name": "ipython",
    "version": 3
   },
   "file_extension": ".py",
   "mimetype": "text/x-python",
   "name": "python",
   "nbconvert_exporter": "python",
   "pygments_lexer": "ipython3",
   "version": "3.6.5"
  }
 },
 "nbformat": 4,
 "nbformat_minor": 2
}
